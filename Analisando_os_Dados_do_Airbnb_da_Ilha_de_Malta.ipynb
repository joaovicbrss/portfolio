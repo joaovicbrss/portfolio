{
  "nbformat": 4,
  "nbformat_minor": 0,
  "metadata": {
    "colab": {
      "name": " Analisando os Dados do Airbnb da Ilha de Malta.ipynb",
      "provenance": [],
      "collapsed_sections": [],
      "include_colab_link": true
    },
    "kernelspec": {
      "name": "python3",
      "display_name": "Python 3"
    }
  },
  "cells": [
    {
      "cell_type": "markdown",
      "metadata": {
        "id": "view-in-github",
        "colab_type": "text"
      },
      "source": [
        "<a href=\"https://colab.research.google.com/github/joaovicbrss/portfolio/blob/main/Analisando_os_Dados_do_Airbnb_da_Ilha_de_Malta.ipynb\" target=\"_parent\"><img src=\"https://colab.research.google.com/assets/colab-badge.svg\" alt=\"Open In Colab\"/></a>"
      ]
    },
    {
      "cell_type": "markdown",
      "metadata": {
        "id": "kLI0gJtzDGuQ"
      },
      "source": [
        "<img alt=\"Colaboratory logo\" width=\"15%\" src=\"https://raw.githubusercontent.com/carlosfab/escola-data-science/master/img/novo_logo_bg_claro.png\">\n",
        "\n",
        "#### **Data Science na Prática 3.0**\n",
        "*by [sigmoidal.ai](https://sigmoidal.ai)*\n",
        "\n",
        "---\n",
        "\n",
        "# Análise dos Dados do Airbnb - *Malta*\n",
        "\n",
        "O [Airbnb](https://www.airbnb.com.br/) já é considerado como sendo a **maior empresa hoteleira da atualidade**. Ah, o detalhe é que ele **não possui nenhum hotel**!\n",
        "\n",
        "Conectando pessoas que querem viajar (e se hospedar) com anfitriões que querem alugar seus imóveis de maneira prática, o Airbnb fornece uma plataforma inovadora para tornar essa hospedagem alternativa.\n",
        "\n",
        "No final de 2018, a Startup fundada 10 anos atrás, já havia **hospedado mais de 300 milhões** de pessoas ao redor de todo o mundo, desafiando as redes hoteleiras tradicionais.\n",
        "\n",
        "Uma das iniciativas do Airbnb é disponibilizar dados do site, para algumas das principais cidades do mundo. Por meio do portal [Inside Airbnb](http://insideairbnb.com/get-the-data.html), é possível baixar uma grande quantidade de dados para desenvolver projetos e soluções de *Data Science*.\n",
        "\n",
        "<center><img alt=\"Analisando Airbnb\" width=\"10%\" src=\"https://www.area360.com.au/wp-content/uploads/2017/09/airbnb-logo.jpg\"></center>\n",
        "\n",
        "**Neste *notebook*, iremos analisar os dados referentes ao arquipélogo de Malta, e ver quais insights podem ser extraídos a partir de dados brutos.**\n",
        "\n",
        "#### **Sobre Malta**\n",
        "A República de Malta é um formada por ilhas que abrange um território terrestre de 316 Km². Localizada ao sul da ilha de Sicília (Itália) e o nordeste da Tunísia (África). Por ser um país histórico e com paisagens paradisíacas recebe muitos turistas, o que nos leva a analisar os números do Airbnb nessa região.\n",
        "\n",
        "Falando um pouco do panorama turístico de Malta, o país está pagando para turistas que visitarem a ilha. Devido a pandemia, o número de turistas caiu 80%, segundo Reuters. Com um investimento de mais de 4 milhões de dólares, existe a expectativa de atrair mais de 35 mil visitantes para o arquipélago.\n",
        "\n",
        "Malta também foi muito elogiada pela Organização Mundial da Saúde (OMS) pelas ações rápidas para conter o vírus no país. Atualmente para viajar para as ilhas é necessário ter tomado vacina contra a Convid-19. Malta é o primeiro país União Europeia (UE) a exigir a prova de vacina aos viajantes. A medida é para proteger a população da doença, já que mais 79% dela foi vacinada, alcançando assim a chamada imunidade de rebanho.\n",
        "\n",
        "\n",
        "\n",
        "<center><img alt=\"Analisando Airbnb\" width=\"100%\" src=\"https://turistaprofissional.com/wp-content/uploads/2014/11/dicas-de-malta.jpg\"></center>\n",
        "\n"
      ]
    },
    {
      "cell_type": "markdown",
      "metadata": {
        "id": "0zxQHhIUDF_2"
      },
      "source": [
        "## Obtenção dos Dados\n",
        "Os dados dessa análise foram obtidos através do site [Inside Airbnb](http://insideairbnb.com/get-the-data.html). Tem por objetivo prover dados sem custo que quantifica o impacto do aluguel de curto prazo na habitação e comunidade residenciais.\n",
        "\n",
        "A análise exploratoria foi baseada do arquivo de 29 de abril de 2021:\n",
        "* listings.csv - _Summary Review data and Listing ID (to facilitate time based analytics and visualisations linked to a listing)._\n",
        "\n",
        "O DataFrame(DF) é os dados estruturados em forma de tabela, com linha (entradas ou registros) e colunas (variáveis). Através da biblioteca Panda, que é amplamente utilizada na área de trabalho com dados, conseguimos transforma um simples arquivo .csv em DataFrame.  Utilizando esse formato, facilita a vizualização e o entendimento da base de dados."
      ]
    },
    {
      "cell_type": "code",
      "metadata": {
        "id": "Vhp2wMPgJ6zX"
      },
      "source": [
        "# importar os pacotes necessários\n",
        "import pandas as pd\n",
        "import numpy as np\n",
        "import matplotlib.pyplot as plt\n",
        "import seaborn as sns\n",
        " \n",
        "%matplotlib inline"
      ],
      "execution_count": 1,
      "outputs": []
    },
    {
      "cell_type": "code",
      "metadata": {
        "id": "tUmoAT8DLQ5T"
      },
      "source": [
        "# importar o arquivo listings.csv para um DataFrame\n",
        "df = pd.read_csv('http://data.insideairbnb.com/malta/2021-04-29/visualisations/listings.csv')"
      ],
      "execution_count": 2,
      "outputs": []
    },
    {
      "cell_type": "markdown",
      "metadata": {
        "id": "qb5By2nIMS6m"
      },
      "source": [
        "## Análise dos Dados\n",
        "Esta etapa tem como explorar e entender como os dados na base de dados estão dispostos. Sabendo o como os dados estão estruturados, podemos começar a extrair informações para tentar tira-las algum conhecimento.\n",
        "\n",
        "\n",
        "\n"
      ]
    },
    {
      "cell_type": "markdown",
      "metadata": {
        "id": "RYgvuebKNg8-"
      },
      "source": [
        "**Dicionário das variáveis**\n",
        "\n",
        "* `id` - *Número de identificação do imóvel*\n",
        "* `name` - *Nome do imóvel*\n",
        "* `host_id` - *Número de identificação do proprietário do imóvel*\n",
        "* `host_name` - *Nome do proprietário do imóvel*\n",
        "* `neighbourhood_group` -  *Coluna sem valores válidos*\n",
        "* `neighbourhood` - *Nome do bairro*\n",
        "* `latitude` - *Coordenada latitudinal do imóvel*\n",
        "* `longitude` - *Coordenada longitudinal do imóvel*\n",
        "* `room_type` - *Tipo de acomodação*\n",
        "* `price` - *Preço para aluguel*\n",
        "* `minimum_nights` - *Número mínimo de noites para aluguel*\n",
        "* `number_of_reviews` - *Número de avalições da acomodação*\n",
        "* `number_of_reviews_ltm` - *Número de avalições nos últimos 12 meses*\n",
        "* `last_review` - *Data da última avaliação*\n",
        "* `reviews_per_month` - *Número de avaliações por mês*\n",
        "* `calculated_host_listings_count` - *Quantidade de imóveis do mesmo dono*\n",
        "* `availability_365` - *Número de dias que a acomodação está disponivel durante 365 dias*\n"
      ]
    },
    {
      "cell_type": "code",
      "metadata": {
        "id": "2iS_dae7YQtO",
        "colab": {
          "base_uri": "https://localhost:8080/",
          "height": 462
        },
        "outputId": "7fd9f6e1-efdc-4d40-defd-a41935d16f1e"
      },
      "source": [
        "# mostrar as 5 primeiras entradas\n",
        "df.head()"
      ],
      "execution_count": 3,
      "outputs": [
        {
          "output_type": "execute_result",
          "data": {
            "text/html": [
              "<div>\n",
              "<style scoped>\n",
              "    .dataframe tbody tr th:only-of-type {\n",
              "        vertical-align: middle;\n",
              "    }\n",
              "\n",
              "    .dataframe tbody tr th {\n",
              "        vertical-align: top;\n",
              "    }\n",
              "\n",
              "    .dataframe thead th {\n",
              "        text-align: right;\n",
              "    }\n",
              "</style>\n",
              "<table border=\"1\" class=\"dataframe\">\n",
              "  <thead>\n",
              "    <tr style=\"text-align: right;\">\n",
              "      <th></th>\n",
              "      <th>id</th>\n",
              "      <th>name</th>\n",
              "      <th>host_id</th>\n",
              "      <th>host_name</th>\n",
              "      <th>neighbourhood_group</th>\n",
              "      <th>neighbourhood</th>\n",
              "      <th>latitude</th>\n",
              "      <th>longitude</th>\n",
              "      <th>room_type</th>\n",
              "      <th>price</th>\n",
              "      <th>minimum_nights</th>\n",
              "      <th>number_of_reviews</th>\n",
              "      <th>number_of_reviews_ltm</th>\n",
              "      <th>last_review</th>\n",
              "      <th>reviews_per_month</th>\n",
              "      <th>calculated_host_listings_count</th>\n",
              "      <th>availability_365</th>\n",
              "    </tr>\n",
              "  </thead>\n",
              "  <tbody>\n",
              "    <tr>\n",
              "      <th>0</th>\n",
              "      <td>40176268</td>\n",
              "      <td>Ta Giza Apartments Flat 2</td>\n",
              "      <td>309568120</td>\n",
              "      <td>Gordon</td>\n",
              "      <td>NaN</td>\n",
              "      <td>Fontana</td>\n",
              "      <td>36.04116</td>\n",
              "      <td>14.23458</td>\n",
              "      <td>Entire home/apt</td>\n",
              "      <td>49</td>\n",
              "      <td>2</td>\n",
              "      <td>4</td>\n",
              "      <td>3</td>\n",
              "      <td>2020-12-28</td>\n",
              "      <td>0.28</td>\n",
              "      <td>2</td>\n",
              "      <td>211</td>\n",
              "    </tr>\n",
              "    <tr>\n",
              "      <th>1</th>\n",
              "      <td>21318601</td>\n",
              "      <td>Central townhouse: sleeps 8  ideal for carnival!!</td>\n",
              "      <td>77869472</td>\n",
              "      <td>Amelia</td>\n",
              "      <td>NaN</td>\n",
              "      <td>Fontana</td>\n",
              "      <td>36.03823</td>\n",
              "      <td>14.23743</td>\n",
              "      <td>Entire home/apt</td>\n",
              "      <td>260</td>\n",
              "      <td>3</td>\n",
              "      <td>1</td>\n",
              "      <td>0</td>\n",
              "      <td>2019-08-15</td>\n",
              "      <td>0.05</td>\n",
              "      <td>1</td>\n",
              "      <td>89</td>\n",
              "    </tr>\n",
              "    <tr>\n",
              "      <th>2</th>\n",
              "      <td>31882353</td>\n",
              "      <td>Private bedroom near Valletta &amp; Private bathroom</td>\n",
              "      <td>43399245</td>\n",
              "      <td>Nicholas</td>\n",
              "      <td>NaN</td>\n",
              "      <td>Pieta</td>\n",
              "      <td>35.89281</td>\n",
              "      <td>14.49193</td>\n",
              "      <td>Private room</td>\n",
              "      <td>27</td>\n",
              "      <td>3</td>\n",
              "      <td>28</td>\n",
              "      <td>2</td>\n",
              "      <td>2020-09-04</td>\n",
              "      <td>1.08</td>\n",
              "      <td>3</td>\n",
              "      <td>105</td>\n",
              "    </tr>\n",
              "    <tr>\n",
              "      <th>3</th>\n",
              "      <td>43262791</td>\n",
              "      <td>Happy and Healthy Gozo /\\n2 bdr. Apartment+Kit...</td>\n",
              "      <td>130713272</td>\n",
              "      <td>Julia</td>\n",
              "      <td>NaN</td>\n",
              "      <td>Fontana</td>\n",
              "      <td>36.03815</td>\n",
              "      <td>14.23797</td>\n",
              "      <td>Private room</td>\n",
              "      <td>120</td>\n",
              "      <td>2</td>\n",
              "      <td>0</td>\n",
              "      <td>0</td>\n",
              "      <td>NaN</td>\n",
              "      <td>NaN</td>\n",
              "      <td>2</td>\n",
              "      <td>349</td>\n",
              "    </tr>\n",
              "    <tr>\n",
              "      <th>4</th>\n",
              "      <td>34405736</td>\n",
              "      <td>Villa Ambrosia Gastro Bed and Breakfast</td>\n",
              "      <td>12418385</td>\n",
              "      <td>Christopher</td>\n",
              "      <td>NaN</td>\n",
              "      <td>Fontana</td>\n",
              "      <td>36.03962</td>\n",
              "      <td>14.23842</td>\n",
              "      <td>Private room</td>\n",
              "      <td>60</td>\n",
              "      <td>3</td>\n",
              "      <td>0</td>\n",
              "      <td>0</td>\n",
              "      <td>NaN</td>\n",
              "      <td>NaN</td>\n",
              "      <td>1</td>\n",
              "      <td>4</td>\n",
              "    </tr>\n",
              "  </tbody>\n",
              "</table>\n",
              "</div>"
            ],
            "text/plain": [
              "         id  ... availability_365\n",
              "0  40176268  ...              211\n",
              "1  21318601  ...               89\n",
              "2  31882353  ...              105\n",
              "3  43262791  ...              349\n",
              "4  34405736  ...                4\n",
              "\n",
              "[5 rows x 17 columns]"
            ]
          },
          "metadata": {},
          "execution_count": 3
        }
      ]
    },
    {
      "cell_type": "markdown",
      "metadata": {
        "id": "6-B_qtEaYEd-"
      },
      "source": [
        "### **Q1. Quantos atributos (variáveis) e quantas entradas o nosso conjunto de dados possui? Quais os tipos das variáveis?**\n",
        "\n",
        "Para avaliar começar a avaliar os o DataFrame, é preciso saber a quantidade de atributos e entradas o conjunto de dados possui. Neste conjuto, temos 17 variáveis ou colunas e 8475 entradas ou linhas. Sabendo a dimensão, precisamos saber qual o tipo de cada variável para saber como manipular o DataFrame.\n"
      ]
    },
    {
      "cell_type": "code",
      "metadata": {
        "id": "TFRK0tniLV-G",
        "colab": {
          "base_uri": "https://localhost:8080/"
        },
        "outputId": "088d48ca-9927-4e21-857d-3bba08200142"
      },
      "source": [
        "# identificar o volume de dados do DataFrame\n",
        "print(f'O DataFrame tem {df.shape[0]} entradas e {df.shape[1]} colunas!\\n\\n')\n",
        " \n",
        "# verificar os tipos das variáveis\n",
        "print(f'Os tipos das variáveis são: \\n{df.dtypes}')"
      ],
      "execution_count": 4,
      "outputs": [
        {
          "output_type": "stream",
          "name": "stdout",
          "text": [
            "O DataFrame tem 8475 entradas e 17 colunas!\n",
            "\n",
            "\n",
            "Os tipos das variáveis são: \n",
            "id                                  int64\n",
            "name                               object\n",
            "host_id                             int64\n",
            "host_name                          object\n",
            "neighbourhood_group               float64\n",
            "neighbourhood                      object\n",
            "latitude                          float64\n",
            "longitude                         float64\n",
            "room_type                          object\n",
            "price                               int64\n",
            "minimum_nights                      int64\n",
            "number_of_reviews                   int64\n",
            "number_of_reviews_ltm               int64\n",
            "last_review                        object\n",
            "reviews_per_month                 float64\n",
            "calculated_host_listings_count      int64\n",
            "availability_365                    int64\n",
            "dtype: object\n"
          ]
        }
      ]
    },
    {
      "cell_type": "markdown",
      "metadata": {
        "id": "yz1urSUGW9iE"
      },
      "source": [
        "### **Q2. Qual a porcentagem de valores ausentes no *dataset*?**\n",
        "\n",
        "Seguindo na análise, é necessário saber a porcentagem de valores ausêntes. Dependendo da porcentagem de dados nulos, é preciso tomar decisões de exclusão ou preenchimento de alguma forma. Normalmente ignorar dados não validos pode trazer problemas à análise. Após identificar onde estão o valores ausentes, foram excluidas 3 variáveis com porcentagem superior a 28%. Depois foi feita a exclusão das entradas com valores nulos, que é aproximadamente 7% dos dados. Desta forma, o dataframe ficou limpo de dados nulos ou ausêntes. "
      ]
    },
    {
      "cell_type": "code",
      "metadata": {
        "id": "plk2FjbCXOqP",
        "colab": {
          "base_uri": "https://localhost:8080/"
        },
        "outputId": "8009d483-4943-44a1-f993-6733d9e89b8d"
      },
      "source": [
        "# ordenar em ordem decrescente as variáveis por seus valores ausente\n",
        "print('Antes da limpeza---------\\n',(df.isnull().sum() / df.shape[0]).sort_values(ascending=False))\n",
        " \n",
        "# excluindo colunas com valor ausente\n",
        "df.drop(columns=['neighbourhood_group','reviews_per_month','last_review'], inplace=True)\n",
        " \n",
        "# excluindo entradas com dados ausentes\n",
        "df.dropna(axis=0, inplace=True)\n",
        " \n",
        "print('\\n\\n\\nDepois da limpeza---------\\n',(df.isnull().sum() / df.shape[0]).sort_values(ascending=False))"
      ],
      "execution_count": 5,
      "outputs": [
        {
          "output_type": "stream",
          "name": "stdout",
          "text": [
            "Antes da limpeza---------\n",
            " neighbourhood_group               1.000000\n",
            "reviews_per_month                 0.284012\n",
            "last_review                       0.284012\n",
            "host_name                         0.068437\n",
            "name                              0.000118\n",
            "availability_365                  0.000000\n",
            "latitude                          0.000000\n",
            "host_id                           0.000000\n",
            "neighbourhood                     0.000000\n",
            "room_type                         0.000000\n",
            "longitude                         0.000000\n",
            "calculated_host_listings_count    0.000000\n",
            "price                             0.000000\n",
            "minimum_nights                    0.000000\n",
            "number_of_reviews                 0.000000\n",
            "number_of_reviews_ltm             0.000000\n",
            "id                                0.000000\n",
            "dtype: float64\n",
            "\n",
            "\n",
            "\n",
            "Depois da limpeza---------\n",
            " availability_365                  0.0\n",
            "calculated_host_listings_count    0.0\n",
            "number_of_reviews_ltm             0.0\n",
            "number_of_reviews                 0.0\n",
            "minimum_nights                    0.0\n",
            "price                             0.0\n",
            "room_type                         0.0\n",
            "longitude                         0.0\n",
            "latitude                          0.0\n",
            "neighbourhood                     0.0\n",
            "host_name                         0.0\n",
            "host_id                           0.0\n",
            "name                              0.0\n",
            "id                                0.0\n",
            "dtype: float64\n"
          ]
        }
      ]
    },
    {
      "cell_type": "markdown",
      "metadata": {
        "id": "iHXvvHIxaoNc"
      },
      "source": [
        "### **Q3. Qual o tipo de distribuição das variáveis?** \n",
        " \n",
        "A distribuição das variáveis pode ser verificada usando a ferramenta chamada histograma. Sabendo de como os dados estão distribuídos, pode-se identificar a existência de outliers.\n",
        " \n",
        "_Histograma é uma ferramenta de visualização de dados usada na análise exploratória para saber a frequência que os dados aparecem em determinada variável. Este gráfico fornece sobre a dispersão e a assimetria dos dados._\n",
        " \n",
        "Analisando os histogramas, nota-se que existem alguns valores que são discrepantes e precisam ser excluídos. Por exemplo: no histograma do preço, existe um ou mais registros que uma noite custa mais de 8000 euros; outro exemplo, no gráfico do mínimo de noites existe um ou mais registros que o mínimo de noites é 1000 noites. Visualizando esses histogramas, facilita a percepção de outliers."
      ]
    },
    {
      "cell_type": "code",
      "metadata": {
        "id": "q2wWSfeRbmBo",
        "colab": {
          "base_uri": "https://localhost:8080/",
          "height": 574
        },
        "outputId": "8c0c786b-9d9a-4cb7-844b-73919d4bd7ff"
      },
      "source": [
        "# plotar o histograma das variáveis numéricas\n",
        "list_hist = ['price','minimum_nights','number_of_reviews','number_of_reviews_ltm','calculated_host_listings_count','availability_365']\n",
        "df.hist(list_hist, bins=17, figsize=(15,20),color='yellow', layout=(4,3), grid=False, rwidth=0.8, edgecolor='black');"
      ],
      "execution_count": 6,
      "outputs": [
        {
          "output_type": "display_data",
          "data": {
            "image/png": "[encoded data removed]",
            "text/plain": [
              "<Figure size 1080x1440 with 12 Axes>"
            ]
          },
          "metadata": {
            "needs_background": "light"
          }
        }
      ]
    },
    {
      "cell_type": "markdown",
      "metadata": {
        "id": "8cU-eey5w1YB"
      },
      "source": [
        "#### **Tratando _Outliers_**\n",
        "Para uma aproximação de um valor mais próximo da realidade, é necessário fazer uma limpeza de outliers nesta coluna. Caso não seja feito isso, o resultado tenderá para um valor maior do que deveria ser devido ao registro de 8000 euros por exemplo.\n",
        "\n",
        "\n",
        "\n",
        "---\n",
        "\n",
        "\n",
        "\n",
        "_O que são outliers?_\n",
        "\n",
        "_São valores que se destacam por estar fora do padrão e normalmente de forma isolada. Sabendo disto, podemos filtrar esses valores para que os resultados do estudo fiquem mais próximo dos valores reais._\n",
        "\n",
        "\n",
        "\n",
        "---\n",
        "\n",
        "\n",
        "\n",
        "\n",
        "Aplicando esta ideia, foi adotado um método chamado Interquartile range (IQR Score) para delimitar o valor máximo da variável price, excluindo apenas os outliers. Este método é estatístico e foi desenvolvido com o objetivo de avaliar o grau de espalhamento dos dados. Trazendo uma solução mais robusta.\n",
        "\n",
        "Aplicando o IQR Score, foi obtido um valor superior de 202.5. Foi aplicado também na variável minimum_nights e valor superior obtido foi 6. É importante lembrar que valores iguais à 0 não são inúteis para a variável price em tratamento, por esse motivo devem ser excluídos também.\n",
        "\n",
        " Antes de fazer todas a remoção dos outliers, é importante verificar o impacto no dataset dessa remoção. Sabendo disso é averiguado qual a porcentagem de dados que será deletada nesta limpeza de dados. Com isso, não é tomada nenhuma decisão sem a noção do impacto à base. No caso deste projeto, aprimadamente de 15% dos dados foram perdidos como outliers.\n"
      ]
    },
    {
      "cell_type": "code",
      "metadata": {
        "colab": {
          "base_uri": "https://localhost:8080/",
          "height": 317
        },
        "id": "cLwyJqXaLa3h",
        "outputId": "33da70b8-7629-45be-c4c9-21e61562cb14"
      },
      "source": [
        "df.describe()"
      ],
      "execution_count": 7,
      "outputs": [
        {
          "output_type": "execute_result",
          "data": {
            "text/html": [
              "<div>\n",
              "<style scoped>\n",
              "    .dataframe tbody tr th:only-of-type {\n",
              "        vertical-align: middle;\n",
              "    }\n",
              "\n",
              "    .dataframe tbody tr th {\n",
              "        vertical-align: top;\n",
              "    }\n",
              "\n",
              "    .dataframe thead th {\n",
              "        text-align: right;\n",
              "    }\n",
              "</style>\n",
              "<table border=\"1\" class=\"dataframe\">\n",
              "  <thead>\n",
              "    <tr style=\"text-align: right;\">\n",
              "      <th></th>\n",
              "      <th>id</th>\n",
              "      <th>host_id</th>\n",
              "      <th>latitude</th>\n",
              "      <th>longitude</th>\n",
              "      <th>price</th>\n",
              "      <th>minimum_nights</th>\n",
              "      <th>number_of_reviews</th>\n",
              "      <th>number_of_reviews_ltm</th>\n",
              "      <th>calculated_host_listings_count</th>\n",
              "      <th>availability_365</th>\n",
              "    </tr>\n",
              "  </thead>\n",
              "  <tbody>\n",
              "    <tr>\n",
              "      <th>count</th>\n",
              "      <td>7.895000e+03</td>\n",
              "      <td>7.895000e+03</td>\n",
              "      <td>7895.000000</td>\n",
              "      <td>7895.000000</td>\n",
              "      <td>7895.000000</td>\n",
              "      <td>7895.000000</td>\n",
              "      <td>7895.00000</td>\n",
              "      <td>7895.000000</td>\n",
              "      <td>7895.000000</td>\n",
              "      <td>7895.000000</td>\n",
              "    </tr>\n",
              "    <tr>\n",
              "      <th>mean</th>\n",
              "      <td>2.924071e+07</td>\n",
              "      <td>1.333874e+08</td>\n",
              "      <td>35.934544</td>\n",
              "      <td>14.436214</td>\n",
              "      <td>98.136289</td>\n",
              "      <td>4.435972</td>\n",
              "      <td>18.71311</td>\n",
              "      <td>1.687524</td>\n",
              "      <td>14.640025</td>\n",
              "      <td>214.252438</td>\n",
              "    </tr>\n",
              "    <tr>\n",
              "      <th>std</th>\n",
              "      <td>1.383762e+07</td>\n",
              "      <td>1.142926e+08</td>\n",
              "      <td>0.059120</td>\n",
              "      <td>0.096754</td>\n",
              "      <td>263.286271</td>\n",
              "      <td>23.360118</td>\n",
              "      <td>34.54913</td>\n",
              "      <td>4.050575</td>\n",
              "      <td>38.670195</td>\n",
              "      <td>133.716510</td>\n",
              "    </tr>\n",
              "    <tr>\n",
              "      <th>min</th>\n",
              "      <td>5.018800e+04</td>\n",
              "      <td>5.900800e+04</td>\n",
              "      <td>35.813300</td>\n",
              "      <td>14.195400</td>\n",
              "      <td>8.000000</td>\n",
              "      <td>1.000000</td>\n",
              "      <td>0.00000</td>\n",
              "      <td>0.000000</td>\n",
              "      <td>1.000000</td>\n",
              "      <td>0.000000</td>\n",
              "    </tr>\n",
              "    <tr>\n",
              "      <th>25%</th>\n",
              "      <td>1.889149e+07</td>\n",
              "      <td>2.609471e+07</td>\n",
              "      <td>35.899100</td>\n",
              "      <td>14.393340</td>\n",
              "      <td>40.000000</td>\n",
              "      <td>1.000000</td>\n",
              "      <td>0.00000</td>\n",
              "      <td>0.000000</td>\n",
              "      <td>1.000000</td>\n",
              "      <td>92.000000</td>\n",
              "    </tr>\n",
              "    <tr>\n",
              "      <th>50%</th>\n",
              "      <td>3.185078e+07</td>\n",
              "      <td>1.037066e+08</td>\n",
              "      <td>35.914910</td>\n",
              "      <td>14.485300</td>\n",
              "      <td>65.000000</td>\n",
              "      <td>2.000000</td>\n",
              "      <td>4.00000</td>\n",
              "      <td>0.000000</td>\n",
              "      <td>3.000000</td>\n",
              "      <td>243.000000</td>\n",
              "    </tr>\n",
              "    <tr>\n",
              "      <th>75%</th>\n",
              "      <td>4.158368e+07</td>\n",
              "      <td>2.225276e+08</td>\n",
              "      <td>35.951145</td>\n",
              "      <td>14.499605</td>\n",
              "      <td>105.000000</td>\n",
              "      <td>3.000000</td>\n",
              "      <td>21.00000</td>\n",
              "      <td>2.000000</td>\n",
              "      <td>9.000000</td>\n",
              "      <td>350.000000</td>\n",
              "    </tr>\n",
              "    <tr>\n",
              "      <th>max</th>\n",
              "      <td>4.949536e+07</td>\n",
              "      <td>3.989202e+08</td>\n",
              "      <td>36.080250</td>\n",
              "      <td>14.577990</td>\n",
              "      <td>9000.000000</td>\n",
              "      <td>1000.000000</td>\n",
              "      <td>406.00000</td>\n",
              "      <td>84.000000</td>\n",
              "      <td>213.000000</td>\n",
              "      <td>365.000000</td>\n",
              "    </tr>\n",
              "  </tbody>\n",
              "</table>\n",
              "</div>"
            ],
            "text/plain": [
              "                 id  ...  availability_365\n",
              "count  7.895000e+03  ...       7895.000000\n",
              "mean   2.924071e+07  ...        214.252438\n",
              "std    1.383762e+07  ...        133.716510\n",
              "min    5.018800e+04  ...          0.000000\n",
              "25%    1.889149e+07  ...         92.000000\n",
              "50%    3.185078e+07  ...        243.000000\n",
              "75%    4.158368e+07  ...        350.000000\n",
              "max    4.949536e+07  ...        365.000000\n",
              "\n",
              "[8 rows x 10 columns]"
            ]
          },
          "metadata": {},
          "execution_count": 7
        }
      ]
    },
    {
      "cell_type": "code",
      "metadata": {
        "colab": {
          "base_uri": "https://localhost:8080/",
          "height": 726
        },
        "id": "LahnYFnRxxU9",
        "outputId": "36820ed3-2e3c-47a7-b6a8-cad7708cd769"
      },
      "source": [
        "#identificando outliers da variável price\n",
        "q1_price = df.price.quantile(.25)\n",
        "q3_price = df.price.quantile(.75)\n",
        "iqr_price = q3_price - q1_price\n",
        "print('IQR da variável price é:', iqr_price)\n",
        " \n",
        "#definindo os limites de corte na variável price\n",
        "sup_price = q3_price + 1.5 * iqr_price\n",
        "inf_price = q1_price - 1.5 * iqr_price\n",
        " \n",
        "print('O limite superior da variável price é: ', sup_price)\n",
        "print('O limite inferior da variável price é: ', inf_price)\n",
        "\n",
        "#identificando outliers da variável minimum_nights\n",
        "q1_nights = df.minimum_nights.quantile(.25)\n",
        "q3_nights = df.minimum_nights.quantile(.75)\n",
        "iqr_nights = q3_nights - q1_nights\n",
        "print('\\nIQR da variável mininum nights é:', iqr_nights)\n",
        " \n",
        "#definindo os limites de corte na variável minimum_nights\n",
        "sup_nights = q3_nights + 1.5 * iqr_nights\n",
        "inf_nights = q1_nights - 1.5 * iqr_nights\n",
        "\n",
        "print('O limite superior da variável minimum_nights é: ', sup_nights)\n",
        "print('O limite inferior da variável minimum_nights é: ', inf_nights,'\\n\\n')\n",
        "\n",
        "#verificando qual a porcentagem de dados a ser excluída para a variável price\n",
        "fig, ax = plt.subplots(figsize=(15,3))\n",
        "df.price.plot(kind='box', vert=False)\n",
        "ax.set_title('Variável price antes da limpeza')\n",
        "plt.show()\n",
        "print('O dataset possui {} colunas'.format(df.shape[0]))\n",
        "print('{} Entradas acima de 202.5'.format(len(df[df.price > 202.5])))\n",
        "print('Representam {:.2f}% do dataset\\n\\n'.format((len(df[df.price > 202.5]) / df.shape[0])*100))\n",
        "\n",
        "#verificando qual a porcentagem de dados a ser excluída para a variável minimum_nights\n",
        "fig, ax = plt.subplots(figsize=(15,3))\n",
        "df.minimum_nights.plot(kind='box', vert=False)\n",
        "ax.set_title('Variável minimum_nights antes da limpeza')\n",
        "plt.show()\n",
        "print('O dataset possui {} colunas'.format(df.shape[0]))\n",
        "print('{} Entradas acima de 6'.format(len(df[df.minimum_nights > 6])))\n",
        "print('Representam {:.2f}% do dataset'.format((len(df[df.minimum_nights > 6]) / df.shape[0])*100))"
      ],
      "execution_count": 8,
      "outputs": [
        {
          "output_type": "stream",
          "name": "stdout",
          "text": [
            "IQR da variável price é: 65.0\n",
            "O limite superior da variável price é:  202.5\n",
            "O limite inferior da variável price é:  -57.5\n",
            "\n",
            "IQR da variável mininum nights é: 2.0\n",
            "O limite superior da variável minimum_nights é:  6.0\n",
            "O limite inferior da variável minimum_nights é:  -2.0 \n",
            "\n",
            "\n"
          ]
        },
        {
          "output_type": "display_data",
          "data": {
            "image/png": "[encoded data removed]",
            "text/plain": [
              "<Figure size 1080x216 with 1 Axes>"
            ]
          },
          "metadata": {
            "needs_background": "light"
          }
        },
        {
          "output_type": "stream",
          "name": "stdout",
          "text": [
            "O dataset possui 7895 colunas\n",
            "525 Entradas acima de 202.5\n",
            "Representam 6.65% do dataset\n",
            "\n",
            "\n"
          ]
        },
        {
          "output_type": "display_data",
          "data": {
            "image/png": "[encoded data removed]",
            "text/plain": [
              "<Figure size 1080x216 with 1 Axes>"
            ]
          },
          "metadata": {
            "needs_background": "light"
          }
        },
        {
          "output_type": "stream",
          "name": "stdout",
          "text": [
            "O dataset possui 7895 colunas\n",
            "662 Entradas acima de 6\n",
            "Representam 8.39% do dataset\n"
          ]
        }
      ]
    },
    {
      "cell_type": "code",
      "metadata": {
        "colab": {
          "base_uri": "https://localhost:8080/",
          "height": 471
        },
        "id": "ZYirVtX-GraV",
        "outputId": "ae4e41ed-2bca-40fe-ec34-23fa5a9de663"
      },
      "source": [
        "#limpando o dataset\n",
        "df_cleaned = df.copy()\n",
        "\n",
        "df_cleaned.drop(df_cleaned[df_cleaned.price > 202.5].index, axis=0, inplace=True)\n",
        "df_cleaned.drop(df_cleaned[df_cleaned.price == 0.0].index, axis=0, inplace=True)\n",
        "df_cleaned.drop(df_cleaned[df_cleaned.minimum_nights > 6].index, axis=0, inplace=True)\n",
        "\n",
        "print('Shape antes da limpeza: ', df.shape)\n",
        "print('Shape após a limpeza: ', df_cleaned.shape)\n",
        "\n",
        "#verificando variável price após exclusão\n",
        "fig, ax = plt.subplots(figsize=(15,3))\n",
        "df_cleaned.price.plot(kind='box', vert=False)\n",
        "ax.set_title('Variável price após da limpeza')\n",
        "plt.show()\n",
        "\n",
        "#verificando variável minimum_nights após exclusão\n",
        "fig, ax = plt.subplots(figsize=(15,3))\n",
        "df_cleaned.minimum_nights.plot(kind='box', vert=False)\n",
        "ax.set_title('Variável minimum_nights após da limpeza')\n",
        "plt.show()"
      ],
      "execution_count": 9,
      "outputs": [
        {
          "output_type": "stream",
          "name": "stdout",
          "text": [
            "Shape antes da limpeza:  (7895, 14)\n",
            "Shape após a limpeza:  (6771, 14)\n"
          ]
        },
        {
          "output_type": "display_data",
          "data": {
            "image/png": "[encoded data removed]",
            "text/plain": [
              "<Figure size 1080x216 with 1 Axes>"
            ]
          },
          "metadata": {
            "needs_background": "light"
          }
        },
        {
          "output_type": "display_data",
          "data": {
            "image/png": "[encoded data removed]",
            "text/plain": [
              "<Figure size 1080x216 with 1 Axes>"
            ]
          },
          "metadata": {
            "needs_background": "light"
          }
        }
      ]
    },
    {
      "cell_type": "markdown",
      "metadata": {
        "id": "7x4aw1j5wNmn"
      },
      "source": [
        "### **Q4. Qual a média dos preços de aluguel?**\n",
        "Após fazer os procedimentos anteriores, é simples responder essa pergunta segundo os dados obtidos. A partir do dataset o preço médio do aluguel é de 71 euros. É importante lembrar que o valor médio do aluguel no Airbnb o que normalmente fica abaixo ao serviço de hotéis.\n",
        "\n",
        "Um dado interessante sobre Malta é que o país é muito procurado por estudantes que desejam fazer intercambio e querem estudar o inglês. O motivo dessa procura é que os valores de investimento para uma viagem desse porte são mais baixo comparados com outros países da Europa. Dessa forma, Malta se torna um destino atrativo no continente europeu.\n",
        "\n",
        "\n",
        "\n"
      ]
    },
    {
      "cell_type": "code",
      "metadata": {
        "colab": {
          "base_uri": "https://localhost:8080/"
        },
        "id": "lTSNrsX7vf7Z",
        "outputId": "40563275-5298-4224-8c26-9f56d52b3cc5"
      },
      "source": [
        "print('A média do preço de aluguel no AirBnb em Malta é de {:.3} euros' .format(df_cleaned.price.mean()))"
      ],
      "execution_count": 10,
      "outputs": [
        {
          "output_type": "stream",
          "name": "stdout",
          "text": [
            "A média do preço de aluguel no AirBnb em Malta é de 71.0 euros\n"
          ]
        }
      ]
    },
    {
      "cell_type": "markdown",
      "metadata": {
        "id": "IXn2oIo5qx-w"
      },
      "source": [
        "### **Q5. Qual a correlação existente entre as variáveis**\n",
        "Através da correlação pode-se verificar a intensidade da relação, que varia entre 1(correlação positiva), 0(correlação nula) e -1(correlação negativa), que existe entre um conjunto de variáveis do DataFrame. É importante lembrar que correlação não implica casualidade, ou seja, se duas variáveis têm alguma correção, não significa que o aumento de uma vai reforçar a outra. Olhando para os dados em análise, nota-se que não existe nenhuma correlação significativa entre as variáveis apresentadas."
      ]
    },
    {
      "cell_type": "code",
      "metadata": {
        "id": "x2ayzBajqxyd",
        "colab": {
          "base_uri": "https://localhost:8080/",
          "height": 204
        },
        "outputId": "1c70a3c9-ddff-442f-f572-8d092afa6e24"
      },
      "source": [
        "# criar uma matriz de correlação\n",
        "matriz_cor = df_cleaned[['price', 'minimum_nights', 'number_of_reviews', 'calculated_host_listings_count', 'availability_365']].corr()\n",
        "# mostrar a matriz de correlação\n",
        "\n",
        "display(matriz_cor)"
      ],
      "execution_count": 11,
      "outputs": [
        {
          "output_type": "display_data",
          "data": {
            "text/html": [
              "<div>\n",
              "<style scoped>\n",
              "    .dataframe tbody tr th:only-of-type {\n",
              "        vertical-align: middle;\n",
              "    }\n",
              "\n",
              "    .dataframe tbody tr th {\n",
              "        vertical-align: top;\n",
              "    }\n",
              "\n",
              "    .dataframe thead th {\n",
              "        text-align: right;\n",
              "    }\n",
              "</style>\n",
              "<table border=\"1\" class=\"dataframe\">\n",
              "  <thead>\n",
              "    <tr style=\"text-align: right;\">\n",
              "      <th></th>\n",
              "      <th>price</th>\n",
              "      <th>minimum_nights</th>\n",
              "      <th>number_of_reviews</th>\n",
              "      <th>calculated_host_listings_count</th>\n",
              "      <th>availability_365</th>\n",
              "    </tr>\n",
              "  </thead>\n",
              "  <tbody>\n",
              "    <tr>\n",
              "      <th>price</th>\n",
              "      <td>1.000000</td>\n",
              "      <td>0.105848</td>\n",
              "      <td>-0.103627</td>\n",
              "      <td>0.171090</td>\n",
              "      <td>0.099314</td>\n",
              "    </tr>\n",
              "    <tr>\n",
              "      <th>minimum_nights</th>\n",
              "      <td>0.105848</td>\n",
              "      <td>1.000000</td>\n",
              "      <td>0.036145</td>\n",
              "      <td>-0.086197</td>\n",
              "      <td>-0.029823</td>\n",
              "    </tr>\n",
              "    <tr>\n",
              "      <th>number_of_reviews</th>\n",
              "      <td>-0.103627</td>\n",
              "      <td>0.036145</td>\n",
              "      <td>1.000000</td>\n",
              "      <td>-0.124215</td>\n",
              "      <td>0.009011</td>\n",
              "    </tr>\n",
              "    <tr>\n",
              "      <th>calculated_host_listings_count</th>\n",
              "      <td>0.171090</td>\n",
              "      <td>-0.086197</td>\n",
              "      <td>-0.124215</td>\n",
              "      <td>1.000000</td>\n",
              "      <td>0.163262</td>\n",
              "    </tr>\n",
              "    <tr>\n",
              "      <th>availability_365</th>\n",
              "      <td>0.099314</td>\n",
              "      <td>-0.029823</td>\n",
              "      <td>0.009011</td>\n",
              "      <td>0.163262</td>\n",
              "      <td>1.000000</td>\n",
              "    </tr>\n",
              "  </tbody>\n",
              "</table>\n",
              "</div>"
            ],
            "text/plain": [
              "                                   price  ...  availability_365\n",
              "price                           1.000000  ...          0.099314\n",
              "minimum_nights                  0.105848  ...         -0.029823\n",
              "number_of_reviews              -0.103627  ...          0.009011\n",
              "calculated_host_listings_count  0.171090  ...          0.163262\n",
              "availability_365                0.099314  ...          1.000000\n",
              "\n",
              "[5 rows x 5 columns]"
            ]
          },
          "metadata": {}
        }
      ]
    },
    {
      "cell_type": "code",
      "metadata": {
        "id": "91UujDr6ueqE",
        "colab": {
          "base_uri": "https://localhost:8080/",
          "height": 411
        },
        "outputId": "fb589ba2-991e-4fef-eff3-4a16b81fa3d7"
      },
      "source": [
        "# plotar um heatmap a partir das correlações\n",
        "mask = np.triu(matriz_cor)\n",
        "sns.heatmap(matriz_cor, cmap='coolwarm', fmt='.2f', square=True, linecolor='white', vmin=-1, vmax=1, annot=True, mask=mask);"
      ],
      "execution_count": 12,
      "outputs": [
        {
          "output_type": "display_data",
          "data": {
            "image/png": "[encoded data removed]",
            "text/plain": [
              "<Figure size 432x288 with 2 Axes>"
            ]
          },
          "metadata": {
            "needs_background": "light"
          }
        }
      ]
    },
    {
      "cell_type": "markdown",
      "metadata": {
        "id": "7b6RMWpuHKN-"
      },
      "source": [
        "<center><img alt=\"Analisando Airbnb\" width=\"100%\" src=https://www.belta.org.br/wp-content/uploads/St_Georges_Bay_Aerial_View_2baixaa-810x430.jpg\"></center>\n",
        "\n",
        "### **Q6. Qual o tipo de imóvel mais alugado no Airbnb?**\n",
        "\n",
        "Segundo os dados de número de avaliações, 56% dos imóveis para aluguel cadastrados na plataforma do Airbnb em Malta são no modelo de Entire home/apt, ou seja, o aluguel é de todo imóvel seja apartamento ou casa. Olhando para a parte de avaliações também confirma que é o modelo que mais tem avaliação."
      ]
    },
    {
      "cell_type": "code",
      "metadata": {
        "colab": {
          "base_uri": "https://localhost:8080/"
        },
        "id": "d4GGW-uPztjI",
        "outputId": "5d95b51c-8bb6-430b-c3cd-d2800484f75d"
      },
      "source": [
        "# mostrar a quantidade de cada tipo de imóvel disponível\n",
        "print(df_cleaned.room_type.value_counts())\n",
        "print('\\n\\n\\nDe acordo com número de avaliações, o tipo de imóvel mais alugado é o modelo do imóvel completo.\\n',df_cleaned.groupby(['room_type']).number_of_reviews.mean().sort_values(ascending=False)[:10])"
      ],
      "execution_count": 13,
      "outputs": [
        {
          "output_type": "stream",
          "name": "stdout",
          "text": [
            "Entire home/apt    3850\n",
            "Private room       2463\n",
            "Shared room         305\n",
            "Hotel room          153\n",
            "Name: room_type, dtype: int64\n",
            "\n",
            "\n",
            "\n",
            "De acordo com número de avaliações, o tipo de imóvel mais alugado é o modelo do imóvel completo.\n",
            " room_type\n",
            "Entire home/apt    25.942338\n",
            "Private room       14.295981\n",
            "Hotel room          5.816993\n",
            "Shared room         4.691803\n",
            "Name: number_of_reviews, dtype: float64\n"
          ]
        }
      ]
    },
    {
      "cell_type": "code",
      "metadata": {
        "id": "EvwoO-XAHhIm",
        "colab": {
          "base_uri": "https://localhost:8080/"
        },
        "outputId": "fef6d504-4c47-4d9f-f328-4d83139b4631"
      },
      "source": [
        "# mostrar a porcentagem de cada tipo de imóvel disponível\n",
        "df_cleaned.room_type.value_counts() / df_cleaned.shape[0]"
      ],
      "execution_count": 14,
      "outputs": [
        {
          "output_type": "execute_result",
          "data": {
            "text/plain": [
              "Entire home/apt    0.568601\n",
              "Private room       0.363757\n",
              "Shared room        0.045045\n",
              "Hotel room         0.022596\n",
              "Name: room_type, dtype: float64"
            ]
          },
          "metadata": {},
          "execution_count": 14
        }
      ]
    },
    {
      "cell_type": "markdown",
      "metadata": {
        "id": "MFa5NbnLJMcd"
      },
      "source": [
        "### **Q7. Qual a localidade mais cara do dataset?**\n",
        "\n",
        "Extraindo a informação que os dados nos proporcionam, o ranking dos bairros mais caros é 1º: Luqa[16 entradas], 2º: Dingli[2 entradas], 3º: Ghasri[54 entradas], 4º: Gharb[73 entradas], 5º: Sannat[34 entradas], 6º: San Lawrenz[36 entradas], 7º: Xaghra[177 entradas], 8º: Kercem[42 entradas], 9º: Kalkara[20 entradas] e 10º: Valletta[416 entradas].\n",
        "\n",
        "Olhando os dados disponíveis, nota-se que a média de preço é influenciada pela falta de dados. Por exemplo: A cidade de Valletta é a capital de Malta, normalmente a capital tem um preço acima das demais cidades, mas não é o que acontece nesse dataset que está em análise. Por conta da maior quantidade de dados, Valletta aparece na décima posição.\n",
        "\n",
        "\n"
      ]
    },
    {
      "cell_type": "code",
      "metadata": {
        "id": "MD_xa143JZpi",
        "colab": {
          "base_uri": "https://localhost:8080/"
        },
        "outputId": "0811204b-50d0-4013-a914-625086f69c6c"
      },
      "source": [
        "# ver preços por bairros, na média\n",
        "df_cleaned.groupby(['neighbourhood']).price.mean().sort_values(ascending=False)[:10]\n"
      ],
      "execution_count": 15,
      "outputs": [
        {
          "output_type": "execute_result",
          "data": {
            "text/plain": [
              "neighbourhood\n",
              "Luqa           146.687500\n",
              "Dingli         132.500000\n",
              "Ghasri         120.333333\n",
              "Gharb          107.150685\n",
              "Sannat         106.764706\n",
              "San Lawrenz    103.361111\n",
              "Xaghra         100.587571\n",
              "Kercem          95.119048\n",
              "Kalkara         94.700000\n",
              "Valletta        89.314904\n",
              "Name: price, dtype: float64"
            ]
          },
          "metadata": {},
          "execution_count": 15
        }
      ]
    },
    {
      "cell_type": "code",
      "metadata": {
        "colab": {
          "base_uri": "https://localhost:8080/"
        },
        "id": "xA-cavkqexPJ",
        "outputId": "d35d7bfe-a96e-46a9-8912-6eacfd09b299"
      },
      "source": [
        "print('Quantidade de entradas para Luqa =',df_cleaned[df_cleaned.neighbourhood == \"Luqa\"].shape[0])\n",
        "print('Quantidade de entradas para Dingli =',df_cleaned[df_cleaned.neighbourhood == 'Dingli'].shape[0])\n",
        "print('Quantidade de entradas para Ghasri =',df_cleaned[df_cleaned.neighbourhood == 'Ghasri'].shape[0])\n",
        "print('Quantidade de entradas para Gharb =',df_cleaned[df_cleaned.neighbourhood == 'Gharb'].shape[0])\n",
        "print('Quantidade de entradas para Sannat =',df_cleaned[df_cleaned.neighbourhood == 'Sannat'].shape[0])\n",
        "print('Quantidade de entradas para San Lawrenz =',df_cleaned[df_cleaned.neighbourhood == 'San Lawrenz'].shape[0])\n",
        "print('Quantidade de entradas para Xaghra =',df_cleaned[df_cleaned.neighbourhood == 'Xaghra'].shape[0])\n",
        "print('Quantidade de entradas para Kercem =',df_cleaned[df_cleaned.neighbourhood == 'Kercem'].shape[0])\n",
        "print('Quantidade de entradas para Kalkara =',df_cleaned[df_cleaned.neighbourhood == 'Kalkara'].shape[0])\n",
        "print('Quantidade de entradas para Valletta =',df_cleaned[df_cleaned.neighbourhood == 'Valletta'].shape[0])"
      ],
      "execution_count": 16,
      "outputs": [
        {
          "output_type": "stream",
          "name": "stdout",
          "text": [
            "Quantidade de entradas para Luqa = 16\n",
            "Quantidade de entradas para Dingli = 2\n",
            "Quantidade de entradas para Ghasri = 54\n",
            "Quantidade de entradas para Gharb = 73\n",
            "Quantidade de entradas para Sannat = 34\n",
            "Quantidade de entradas para San Lawrenz = 36\n",
            "Quantidade de entradas para Xaghra = 177\n",
            "Quantidade de entradas para Kercem = 42\n",
            "Quantidade de entradas para Kalkara = 20\n",
            "Quantidade de entradas para Valletta = 416\n"
          ]
        }
      ]
    },
    {
      "cell_type": "code",
      "metadata": {
        "id": "UxVJqJ_3W59I",
        "colab": {
          "base_uri": "https://localhost:8080/",
          "height": 472
        },
        "outputId": "b030e5a3-7495-4eb5-d9e8-5d4debe28c1b"
      },
      "source": [
        "# plotar os imóveis pela latitude-longitude\n",
        "df_cleaned.plot(kind='scatter', x='longitude', y='latitude', alpha=0.4, c=df_cleaned['price'], s=8, cmap=plt.get_cmap('jet'), figsize=(12,8));"
      ],
      "execution_count": 17,
      "outputs": [
        {
          "output_type": "display_data",
          "data": {
            "image/png": "[encoded data removed]",
            "text/plain": [
              "<Figure size 864x576 with 2 Axes>"
            ]
          },
          "metadata": {
            "needs_background": "light"
          }
        }
      ]
    },
    {
      "cell_type": "markdown",
      "metadata": {
        "id": "vTneAMRUYvr1"
      },
      "source": [
        "### **Q8. Qual é a média do mínimo de noites para aluguel (minimum_nights)?**\n",
        "\n",
        "A média de noites mínimas para aluguel de imóvel na ilha de Malta é 2 noites. Uma hipótese pode ser que os proprietários de imóveis se baseiam em aluguéis por finais de semanas completos. Com essa condição, há um aumento no lucro e diminuição no gasto com arrumações após o uso."
      ]
    },
    {
      "cell_type": "code",
      "metadata": {
        "id": "_VzNhrEgY82N",
        "colab": {
          "base_uri": "https://localhost:8080/"
        },
        "outputId": "514b7527-6cd1-47ec-86ff-a1559c07f772"
      },
      "source": [
        "# ver a média da coluna `minimum_nights`\n",
        "print('A média de mínimo de noites para aluguel de imóveis em Malta é {:0.3} noites.' .format(df_cleaned.minimum_nights.mean()))\n"
      ],
      "execution_count": null,
      "outputs": [
        {
          "output_type": "stream",
          "name": "stdout",
          "text": [
            "A média de mínimo de noites para aluguel de imóveis em Malta é 2.35 noites.\n"
          ]
        }
      ]
    },
    {
      "cell_type": "markdown",
      "metadata": {
        "id": "GkvAg623RjoR"
      },
      "source": [
        "## Conclusões\n",
        "\n",
        "Finalizando a análise exploratória, pode-se notar que é possível coletar informações de grande valia para quem pretende viajar para Ilha de Malta, mesmo que usando um dataset resumido, principalmente para quem deseja visitar a ilha sem ter surpresas financeiras na parte de hospedagem. \n",
        "É importante ressaltar que para ter uma melhor precisão e análise mais apurada é necessário utilizar um dataset com mais variáveis. Gerando mais informações e respondendo mais perguntas com mais dados.\n",
        "\n",
        "\n",
        "\n"
      ]
    }
  ]
}
